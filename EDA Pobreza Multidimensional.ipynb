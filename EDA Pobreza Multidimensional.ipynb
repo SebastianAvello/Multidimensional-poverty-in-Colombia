{
 "cells": [
  {
   "cell_type": "markdown",
   "id": "ac0243b2",
   "metadata": {},
   "source": [
    "EDA - Pobreza Multidimensional en Colombia 2020"
   ]
  },
  {
   "cell_type": "code",
   "execution_count": 2,
   "id": "91965a53",
   "metadata": {},
   "outputs": [
    {
     "data": {
      "text/html": [
       "<div>\n",
       "<style scoped>\n",
       "    .dataframe tbody tr th:only-of-type {\n",
       "        vertical-align: middle;\n",
       "    }\n",
       "\n",
       "    .dataframe tbody tr th {\n",
       "        vertical-align: top;\n",
       "    }\n",
       "\n",
       "    .dataframe thead th {\n",
       "        text-align: right;\n",
       "    }\n",
       "</style>\n",
       "<table border=\"1\" class=\"dataframe\">\n",
       "  <thead>\n",
       "    <tr style=\"text-align: right;\">\n",
       "      <th></th>\n",
       "      <th>PERIODO</th>\n",
       "      <th>DIRECTORIO</th>\n",
       "      <th>SECUENCIA_ENCUESTA</th>\n",
       "      <th>SECUENCIA_P</th>\n",
       "      <th>P5010</th>\n",
       "      <th>P8526</th>\n",
       "      <th>P8530</th>\n",
       "      <th>fex_c</th>\n",
       "      <th>REGION</th>\n",
       "      <th>DEPARTAMENTO</th>\n",
       "      <th>...</th>\n",
       "      <th>trabajo_infantil</th>\n",
       "      <th>atencion_integral</th>\n",
       "      <th>inasistencia_escolar</th>\n",
       "      <th>rezago_escolar</th>\n",
       "      <th>alfabetismo</th>\n",
       "      <th>logro_educativo</th>\n",
       "      <th>hacinamiento</th>\n",
       "      <th>ipm</th>\n",
       "      <th>pobre</th>\n",
       "      <th>fexp</th>\n",
       "    </tr>\n",
       "  </thead>\n",
       "  <tbody>\n",
       "    <tr>\n",
       "      <th>0</th>\n",
       "      <td>20200939</td>\n",
       "      <td>7247300</td>\n",
       "      <td>1</td>\n",
       "      <td>1</td>\n",
       "      <td>2</td>\n",
       "      <td>1</td>\n",
       "      <td>1</td>\n",
       "      <td>513.690889</td>\n",
       "      <td>1</td>\n",
       "      <td>8</td>\n",
       "      <td>...</td>\n",
       "      <td>0</td>\n",
       "      <td>0</td>\n",
       "      <td>0</td>\n",
       "      <td>0</td>\n",
       "      <td>0</td>\n",
       "      <td>1</td>\n",
       "      <td>0</td>\n",
       "      <td>0.30</td>\n",
       "      <td>0</td>\n",
       "      <td>1541.072666</td>\n",
       "    </tr>\n",
       "    <tr>\n",
       "      <th>1</th>\n",
       "      <td>20200939</td>\n",
       "      <td>7247301</td>\n",
       "      <td>1</td>\n",
       "      <td>1</td>\n",
       "      <td>1</td>\n",
       "      <td>1</td>\n",
       "      <td>1</td>\n",
       "      <td>482.968201</td>\n",
       "      <td>1</td>\n",
       "      <td>8</td>\n",
       "      <td>...</td>\n",
       "      <td>0</td>\n",
       "      <td>0</td>\n",
       "      <td>0</td>\n",
       "      <td>0</td>\n",
       "      <td>0</td>\n",
       "      <td>1</td>\n",
       "      <td>0</td>\n",
       "      <td>0.30</td>\n",
       "      <td>0</td>\n",
       "      <td>965.936401</td>\n",
       "    </tr>\n",
       "    <tr>\n",
       "      <th>2</th>\n",
       "      <td>20200939</td>\n",
       "      <td>7247302</td>\n",
       "      <td>1</td>\n",
       "      <td>1</td>\n",
       "      <td>3</td>\n",
       "      <td>1</td>\n",
       "      <td>1</td>\n",
       "      <td>488.435003</td>\n",
       "      <td>1</td>\n",
       "      <td>8</td>\n",
       "      <td>...</td>\n",
       "      <td>0</td>\n",
       "      <td>0</td>\n",
       "      <td>0</td>\n",
       "      <td>1</td>\n",
       "      <td>0</td>\n",
       "      <td>1</td>\n",
       "      <td>0</td>\n",
       "      <td>0.45</td>\n",
       "      <td>1</td>\n",
       "      <td>2930.610020</td>\n",
       "    </tr>\n",
       "  </tbody>\n",
       "</table>\n",
       "<p>3 rows × 29 columns</p>\n",
       "</div>"
      ],
      "text/plain": [
       "    PERIODO  DIRECTORIO  SECUENCIA_ENCUESTA  SECUENCIA_P  P5010  P8526  P8530  \\\n",
       "0  20200939     7247300                   1            1      2      1      1   \n",
       "1  20200939     7247301                   1            1      1      1      1   \n",
       "2  20200939     7247302                   1            1      3      1      1   \n",
       "\n",
       "        fex_c  REGION  DEPARTAMENTO  ...  trabajo_infantil  atencion_integral  \\\n",
       "0  513.690889       1             8  ...                 0                  0   \n",
       "1  482.968201       1             8  ...                 0                  0   \n",
       "2  488.435003       1             8  ...                 0                  0   \n",
       "\n",
       "   inasistencia_escolar  rezago_escolar  alfabetismo  logro_educativo  \\\n",
       "0                     0               0            0                1   \n",
       "1                     0               0            0                1   \n",
       "2                     0               1            0                1   \n",
       "\n",
       "   hacinamiento   ipm  pobre         fexp  \n",
       "0             0  0.30      0  1541.072666  \n",
       "1             0  0.30      0   965.936401  \n",
       "2             0  0.45      1  2930.610020  \n",
       "\n",
       "[3 rows x 29 columns]"
      ]
     },
     "execution_count": 2,
     "metadata": {},
     "output_type": "execute_result"
    }
   ],
   "source": [
    "#Fuente: Departamento Administrativo Nacional de Estadística: www.dane.gov.co \n",
    "#Base de datos:  http://microdatos.dane.gov.co/index.php/catalog/679/data_dictionary\n",
    "\n",
    "import pandas as pd\n",
    "import numpy as np\n",
    "import seaborn as sns\n",
    "import matplotlib.pyplot as plt\n",
    "%matplotlib inline\n",
    "\n",
    "\n",
    "df = pd.read_excel('Hogares ( Departamental ) 2020.xlsx')\n",
    "df.head(3)"
   ]
  },
  {
   "cell_type": "code",
   "execution_count": 21,
   "id": "a67cb8bb",
   "metadata": {},
   "outputs": [
    {
     "data": {
      "text/plain": [
       "REGION\n",
       "1    19349\n",
       "9    18208\n",
       "3    16545\n",
       "2    15985\n",
       "4     8224\n",
       "6     3915\n",
       "7     3175\n",
       "5     1770\n",
       "8     1139\n",
       "dtype: int64"
      ]
     },
     "execution_count": 21,
     "metadata": {},
     "output_type": "execute_result"
    }
   ],
   "source": [
    "df.value_counts('REGION')\n"
   ]
  },
  {
   "cell_type": "code",
   "execution_count": 23,
   "id": "b9a7461e",
   "metadata": {},
   "outputs": [
    {
     "data": {
      "text/plain": [
       "PERIODO                         0.000000\n",
       "DIRECTORIO                  45418.499563\n",
       "SECUENCIA_ENCUESTA              0.105479\n",
       "SECUENCIA_P                     0.000000\n",
       "P5010                           0.846196\n",
       "P8526                           1.470209\n",
       "P8530                           2.139098\n",
       "fex_c                         285.984841\n",
       "REGION                          2.959183\n",
       "DEPARTAMENTO                   30.218667\n",
       "personas                        1.612989\n",
       "paredes                         0.234536\n",
       "pisos                           0.322267\n",
       "alcantarillado                  0.402076\n",
       "acueducto                       0.425143\n",
       "empleo_formal                   0.374760\n",
       "desempleo_larga_duracion        0.365146\n",
       "barreras_acceso_salud           0.159437\n",
       "aseguramiento_salud             0.293241\n",
       "trabajo_infantil                0.123939\n",
       "atencion_integral               0.256656\n",
       "inasistencia_escolar            0.424694\n",
       "rezago_escolar                  0.443940\n",
       "alfabetismo                     0.333236\n",
       "logro_educativo                 0.497105\n",
       "hacinamiento                    0.276844\n",
       "ipm                             0.135042\n",
       "pobre                           0.426377\n",
       "fexp                         1021.614234\n",
       "dtype: float64"
      ]
     },
     "execution_count": 23,
     "metadata": {},
     "output_type": "execute_result"
    }
   ],
   "source": [
    "df.std()"
   ]
  },
  {
   "cell_type": "code",
   "execution_count": 3,
   "id": "dde9ab0a",
   "metadata": {},
   "outputs": [
    {
     "data": {
      "text/plain": [
       "<seaborn.axisgrid.JointGrid at 0x27a9527ae20>"
      ]
     },
     "execution_count": 3,
     "metadata": {},
     "output_type": "execute_result"
    },
    {
     "data": {
      "image/png": "[encoded data removed]",
      "text/plain": [
       "<Figure size 432x432 with 3 Axes>"
      ]
     },
     "metadata": {
      "needs_background": "light"
     },
     "output_type": "display_data"
    }
   ],
   "source": [
    "sns.jointplot(x='REGION',y='pobre',data=df)"
   ]
  },
  {
   "cell_type": "code",
   "execution_count": 4,
   "id": "a00996b2",
   "metadata": {},
   "outputs": [
    {
     "data": {
      "text/plain": [
       "<AxesSubplot:xlabel='pobre', ylabel='count'>"
      ]
     },
     "execution_count": 4,
     "metadata": {},
     "output_type": "execute_result"
    },
    {
     "data": {
      "image/png": "[encoded data removed]",
      "text/plain": [
       "<Figure size 432x288 with 1 Axes>"
      ]
     },
     "metadata": {
      "needs_background": "light"
     },
     "output_type": "display_data"
    }
   ],
   "source": [
    "sns.countplot(x='pobre',data=df)"
   ]
  },
  {
   "cell_type": "code",
   "execution_count": 5,
   "id": "3cfc507f",
   "metadata": {},
   "outputs": [
    {
     "data": {
      "text/plain": [
       "Text(0.5, 1.0, 'df.corr()')"
      ]
     },
     "execution_count": 5,
     "metadata": {},
     "output_type": "execute_result"
    },
    {
     "data": {
      "image/png": "[encoded data removed]",
      "text/plain": [
       "<Figure size 432x288 with 2 Axes>"
      ]
     },
     "metadata": {
      "needs_background": "light"
     },
     "output_type": "display_data"
    }
   ],
   "source": [
    "sns.heatmap(df.corr(),cmap='coolwarm')\n",
    "plt.title('df.corr()')"
   ]
  },
  {
   "cell_type": "code",
   "execution_count": 6,
   "id": "0bfa49fc",
   "metadata": {},
   "outputs": [
    {
     "data": {
      "text/plain": [
       "<seaborn.axisgrid.FacetGrid at 0x27a96cbf9d0>"
      ]
     },
     "execution_count": 6,
     "metadata": {},
     "output_type": "execute_result"
    },
    {
     "data": {
      "image/png": "[encoded data removed]",
      "text/plain": [
       "<Figure size 432x216 with 2 Axes>"
      ]
     },
     "metadata": {
      "needs_background": "light"
     },
     "output_type": "display_data"
    }
   ],
   "source": [
    "g = sns.FacetGrid(data=df,col='pobre')\n",
    "g.map(plt.hist,'REGION')"
   ]
  }
 ],
 "metadata": {
  "kernelspec": {
   "display_name": "Python 3",
   "language": "python",
   "name": "python3"
  },
  "language_info": {
   "codemirror_mode": {
    "name": "ipython",
    "version": 3
   },
   "file_extension": ".py",
   "mimetype": "text/x-python",
   "name": "python",
   "nbconvert_exporter": "python",
   "pygments_lexer": "ipython3",
   "version": "3.8.8"
  }
 },
 "nbformat": 4,
 "nbformat_minor": 5
}
